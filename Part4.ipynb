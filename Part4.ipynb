{
 "cells": [
  {
   "cell_type": "markdown",
   "metadata": {},
   "source": [
    "# Movies Tonight Part 4: A few SELECT queries \n",
    "__Use `%%sql` magic to write the queries listed below.__"
   ]
  },
  {
   "cell_type": "code",
   "execution_count": 7,
   "metadata": {
    "collapsed": true
   },
   "outputs": [
    {
     "name": "stdout",
     "output_type": "stream",
     "text": [
      "The sql extension is already loaded. To reload it, use:\n",
      "  %reload_ext sql\n"
     ]
    },
    {
     "data": {
      "text/plain": [
       "'Connected: @Movies.db'"
      ]
     },
     "execution_count": 7,
     "metadata": {},
     "output_type": "execute_result"
    }
   ],
   "source": [
    "# load %sql magic extension\n",
    "%load_ext sql\n",
    "\n",
    "# initialize a database connection; may have to adjust username and password \n",
    "%sql sqlite:///Movies.db"
   ]
  },
  {
   "cell_type": "markdown",
   "metadata": {},
   "source": [
    "**1. Write a select query that returns the MovieTitle, TheaterName, and Showtime for each movie showing.**  \n",
    "The query should use `JOIN` syntax as described in your textbook. Also, use aliases ( `… AS …` ) to make sure that column names match exactly what is asked for. "
   ]
  },
  {
   "cell_type": "code",
   "execution_count": 15,
   "metadata": {
    "collapsed": true
   },
   "outputs": [
    {
     "name": "stdout",
     "output_type": "stream",
     "text": [
      " * sqlite:///Movies.db\n",
      "   sqlite:///Movies.db;\n",
      "Done.\n"
     ]
    },
    {
     "data": {
      "text/html": [
       "<table>\n",
       "    <tr>\n",
       "        <th>MovieTitle</th>\n",
       "        <th>TheaterName</th>\n",
       "        <th>ShowTime</th>\n",
       "    </tr>\n",
       "    <tr>\n",
       "        <td>Associate, The</td>\n",
       "        <td>Akarakian Theatres Moreno 4 Cinemas</td>\n",
       "        <td>4:20 PM</td>\n",
       "    </tr>\n",
       "    <tr>\n",
       "        <td>Ghost &amp; The Darkness, The</td>\n",
       "        <td>Akarakian Theatres Moreno 4 Cinemas</td>\n",
       "        <td>4:20 PM</td>\n",
       "    </tr>\n",
       "    <tr>\n",
       "        <td>Independence Day</td>\n",
       "        <td>Akarakian Theatres Moreno 4 Cinemas</td>\n",
       "        <td>4:20 PM</td>\n",
       "    </tr>\n",
       "    <tr>\n",
       "        <td>D3: The Mighty Ducks</td>\n",
       "        <td>Akarakian Theatres Moreno 4 Cinemas</td>\n",
       "        <td>4:20 PM</td>\n",
       "    </tr>\n",
       "    <tr>\n",
       "        <td>Dear God</td>\n",
       "        <td>Akarakian Theatres Moreno 4 Cinemas</td>\n",
       "        <td>4:20 PM</td>\n",
       "    </tr>\n",
       "    <tr>\n",
       "        <td>First Wives Club, The</td>\n",
       "        <td>Akarakian Theatres Moreno 4 Cinemas</td>\n",
       "        <td>4:20 PM</td>\n",
       "    </tr>\n",
       "    <tr>\n",
       "        <td>High School High</td>\n",
       "        <td>Akarakian Theatres Moreno 4 Cinemas</td>\n",
       "        <td>4:20 PM</td>\n",
       "    </tr>\n",
       "    <tr>\n",
       "        <td>Larger Than Life</td>\n",
       "        <td>Akarakian Theatres Moreno 4 Cinemas</td>\n",
       "        <td>4:20 PM</td>\n",
       "    </tr>\n",
       "    <tr>\n",
       "        <td>Mirror Has Two Faces, The</td>\n",
       "        <td>Akarakian Theatres Moreno 4 Cinemas</td>\n",
       "        <td>7:20 PM</td>\n",
       "    </tr>\n",
       "    <tr>\n",
       "        <td>Ransom</td>\n",
       "        <td>Akarakian Theatres Moreno 4 Cinemas</td>\n",
       "        <td>7:20 PM</td>\n",
       "    </tr>\n",
       "</table>"
      ],
      "text/plain": [
       "[('Associate, The', 'Akarakian Theatres Moreno 4 Cinemas', '4:20 PM'),\n",
       " ('Ghost & The Darkness, The', 'Akarakian Theatres Moreno 4 Cinemas', '4:20 PM'),\n",
       " ('Independence Day', 'Akarakian Theatres Moreno 4 Cinemas', '4:20 PM'),\n",
       " ('D3: The Mighty Ducks', 'Akarakian Theatres Moreno 4 Cinemas', '4:20 PM'),\n",
       " ('Dear God', 'Akarakian Theatres Moreno 4 Cinemas', '4:20 PM'),\n",
       " ('First Wives Club, The', 'Akarakian Theatres Moreno 4 Cinemas', '4:20 PM'),\n",
       " ('High School High', 'Akarakian Theatres Moreno 4 Cinemas', '4:20 PM'),\n",
       " ('Larger Than Life', 'Akarakian Theatres Moreno 4 Cinemas', '4:20 PM'),\n",
       " ('Mirror Has Two Faces, The', 'Akarakian Theatres Moreno 4 Cinemas', '7:20 PM'),\n",
       " ('Ransom', 'Akarakian Theatres Moreno 4 Cinemas', '7:20 PM')]"
      ]
     },
     "execution_count": 15,
     "metadata": {},
     "output_type": "execute_result"
    }
   ],
   "source": [
    "%%sql\n",
    "SELECT MTitle AS MovieTitle, TName AS TheaterName, STime AS ShowTime\n",
    "FROM MOVIES\n",
    "JOIN SHOWS ON MOVIES.MID = SHOWS.SID\n",
    "JOIN THEATERS ON THEATERS.TID = SHOWS.TID\n",
    "LIMIT 10;"
   ]
  },
  {
   "cell_type": "markdown",
   "metadata": {},
   "source": [
    "**2. Write a select query to display the MovieTitle, TheaterName, and Showtime for each show after 7pm.** You can start with a copy of the previous query and then add a `WHERE` clause. "
   ]
  },
  {
   "cell_type": "code",
   "execution_count": 16,
   "metadata": {
    "collapsed": true
   },
   "outputs": [
    {
     "name": "stdout",
     "output_type": "stream",
     "text": [
      " * sqlite:///Movies.db\n",
      "   sqlite:///Movies.db;\n",
      "Done.\n"
     ]
    },
    {
     "data": {
      "text/html": [
       "<table>\n",
       "    <tr>\n",
       "        <th>MovieTitle</th>\n",
       "        <th>TheaterName</th>\n",
       "        <th>ShowTime</th>\n",
       "    </tr>\n",
       "    <tr>\n",
       "        <td>Mirror Has Two Faces, The</td>\n",
       "        <td>Akarakian Theatres Moreno 4 Cinemas</td>\n",
       "        <td>7:20 PM</td>\n",
       "    </tr>\n",
       "    <tr>\n",
       "        <td>Ransom</td>\n",
       "        <td>Akarakian Theatres Moreno 4 Cinemas</td>\n",
       "        <td>7:20 PM</td>\n",
       "    </tr>\n",
       "    <tr>\n",
       "        <td>Sleepers</td>\n",
       "        <td>Akarakian Theatres Moreno 4 Cinemas</td>\n",
       "        <td>7:20 PM</td>\n",
       "    </tr>\n",
       "    <tr>\n",
       "        <td>Space Jam</td>\n",
       "        <td>Akarakian Theatres Moreno 4 Cinemas</td>\n",
       "        <td>7:20 PM</td>\n",
       "    </tr>\n",
       "    <tr>\n",
       "        <td>Stephen King&#x27;s Thinner</td>\n",
       "        <td>Akarakian Theatres Moreno 4 Cinemas</td>\n",
       "        <td>7:20 PM</td>\n",
       "    </tr>\n",
       "    <tr>\n",
       "        <td>Michael Collins</td>\n",
       "        <td>Akarakian Theatres Moreno 4 Cinemas</td>\n",
       "        <td>7:20 PM</td>\n",
       "    </tr>\n",
       "    <tr>\n",
       "        <td>Romeo &amp; Juliet</td>\n",
       "        <td>Akarakian Theatres Moreno 4 Cinemas</td>\n",
       "        <td>7:20 PM</td>\n",
       "    </tr>\n",
       "    <tr>\n",
       "        <td>Big Night</td>\n",
       "        <td>Akarakian Theatres Moreno 4 Cinemas</td>\n",
       "        <td>7:20 PM</td>\n",
       "    </tr>\n",
       "    <tr>\n",
       "        <td>Fly Away Home</td>\n",
       "        <td>Akarakian Theatres Moreno 4 Cinemas</td>\n",
       "        <td>9:40 PM</td>\n",
       "    </tr>\n",
       "    <tr>\n",
       "        <td>Nutty Professor, The</td>\n",
       "        <td>Akarakian Theatres Moreno 4 Cinemas</td>\n",
       "        <td>9:40 PM</td>\n",
       "    </tr>\n",
       "</table>"
      ],
      "text/plain": [
       "[('Mirror Has Two Faces, The', 'Akarakian Theatres Moreno 4 Cinemas', '7:20 PM'),\n",
       " ('Ransom', 'Akarakian Theatres Moreno 4 Cinemas', '7:20 PM'),\n",
       " ('Sleepers', 'Akarakian Theatres Moreno 4 Cinemas', '7:20 PM'),\n",
       " ('Space Jam', 'Akarakian Theatres Moreno 4 Cinemas', '7:20 PM'),\n",
       " (\"Stephen King's Thinner\", 'Akarakian Theatres Moreno 4 Cinemas', '7:20 PM'),\n",
       " ('Michael Collins', 'Akarakian Theatres Moreno 4 Cinemas', '7:20 PM'),\n",
       " ('Romeo & Juliet', 'Akarakian Theatres Moreno 4 Cinemas', '7:20 PM'),\n",
       " ('Big Night', 'Akarakian Theatres Moreno 4 Cinemas', '7:20 PM'),\n",
       " ('Fly Away Home', 'Akarakian Theatres Moreno 4 Cinemas', '9:40 PM'),\n",
       " ('Nutty Professor, The', 'Akarakian Theatres Moreno 4 Cinemas', '9:40 PM')]"
      ]
     },
     "execution_count": 16,
     "metadata": {},
     "output_type": "execute_result"
    }
   ],
   "source": [
    "%%sql\n",
    "SELECT MTitle AS MovieTitle, TName AS TheaterName, STime AS ShowTime\n",
    "FROM MOVIES\n",
    "JOIN SHOWS ON MOVIES.MID = SHOWS.SID\n",
    "JOIN THEATERS ON THEATERS.TID = SHOWS.TID\n",
    "WHERE STime > 7\n",
    "LIMIT 10;"
   ]
  },
  {
   "cell_type": "markdown",
   "metadata": {},
   "source": [
    "**3. Write a select query to display the cast (actors only) of each movie.** The query should return the Movie Title, Actor Name, MID, and AID. "
   ]
  },
  {
   "cell_type": "code",
   "execution_count": 19,
   "metadata": {
    "collapsed": true
   },
   "outputs": [
    {
     "name": "stdout",
     "output_type": "stream",
     "text": [
      " * sqlite:///Movies.db\n",
      "   sqlite:///Movies.db;\n",
      "Done.\n"
     ]
    },
    {
     "data": {
      "text/html": [
       "<table>\n",
       "    <tr>\n",
       "        <th>MovieTitle</th>\n",
       "        <th>ActorName</th>\n",
       "        <th>MID</th>\n",
       "        <th>AID</th>\n",
       "    </tr>\n",
       "    <tr>\n",
       "        <td>Associate, The</td>\n",
       "        <td>Austin Pendleton</td>\n",
       "        <td>1</td>\n",
       "        <td>1</td>\n",
       "    </tr>\n",
       "    <tr>\n",
       "        <td>Associate, The</td>\n",
       "        <td>Austin Pendleton</td>\n",
       "        <td>24</td>\n",
       "        <td>1</td>\n",
       "    </tr>\n",
       "    <tr>\n",
       "        <td>Associate, The</td>\n",
       "        <td>Austin Pendleton</td>\n",
       "        <td>47</td>\n",
       "        <td>1</td>\n",
       "    </tr>\n",
       "    <tr>\n",
       "        <td>Associate, The</td>\n",
       "        <td>Bebe Neuwirth</td>\n",
       "        <td>1</td>\n",
       "        <td>2</td>\n",
       "    </tr>\n",
       "    <tr>\n",
       "        <td>Associate, The</td>\n",
       "        <td>Bebe Neuwirth</td>\n",
       "        <td>24</td>\n",
       "        <td>2</td>\n",
       "    </tr>\n",
       "    <tr>\n",
       "        <td>Associate, The</td>\n",
       "        <td>Bebe Neuwirth</td>\n",
       "        <td>47</td>\n",
       "        <td>2</td>\n",
       "    </tr>\n",
       "    <tr>\n",
       "        <td>Associate, The</td>\n",
       "        <td>Dianne Wiest</td>\n",
       "        <td>1</td>\n",
       "        <td>3</td>\n",
       "    </tr>\n",
       "    <tr>\n",
       "        <td>Associate, The</td>\n",
       "        <td>Dianne Wiest</td>\n",
       "        <td>24</td>\n",
       "        <td>3</td>\n",
       "    </tr>\n",
       "    <tr>\n",
       "        <td>Associate, The</td>\n",
       "        <td>Dianne Wiest</td>\n",
       "        <td>47</td>\n",
       "        <td>3</td>\n",
       "    </tr>\n",
       "    <tr>\n",
       "        <td>Associate, The</td>\n",
       "        <td>Eli Wallach</td>\n",
       "        <td>1</td>\n",
       "        <td>4</td>\n",
       "    </tr>\n",
       "</table>"
      ],
      "text/plain": [
       "[('Associate, The', 'Austin Pendleton', 1, 1),\n",
       " ('Associate, The', 'Austin Pendleton', 24, 1),\n",
       " ('Associate, The', 'Austin Pendleton', 47, 1),\n",
       " ('Associate, The', 'Bebe Neuwirth', 1, 2),\n",
       " ('Associate, The', 'Bebe Neuwirth', 24, 2),\n",
       " ('Associate, The', 'Bebe Neuwirth', 47, 2),\n",
       " ('Associate, The', 'Dianne Wiest', 1, 3),\n",
       " ('Associate, The', 'Dianne Wiest', 24, 3),\n",
       " ('Associate, The', 'Dianne Wiest', 47, 3),\n",
       " ('Associate, The', 'Eli Wallach', 1, 4)]"
      ]
     },
     "execution_count": 19,
     "metadata": {},
     "output_type": "execute_result"
    }
   ],
   "source": [
    "%%sql\n",
    "SELECT MTitle AS MovieTitle, AName AS ActorName, MOVIES.MID, ARTISTS.AID\n",
    "FROM MOVIES\n",
    "JOIN CREDITS ON MOVIES.MID = CREDITS.MID\n",
    "JOIN ARTISTS ON CREDITS.AID = ARTISTS.AID\n",
    "WHERE CCode = \"A\"\n",
    "LIMIT 10;"
   ]
  },
  {
   "cell_type": "markdown",
   "metadata": {},
   "source": [
    "**4. Write a select query to display the number of distinct movies that each actor appears in.** The query should return the ActorName, MovieCount, and AID. You will need to use use a GROUP BY clause and the COUNT() function. "
   ]
  },
  {
   "cell_type": "code",
   "execution_count": 20,
   "metadata": {
    "collapsed": true
   },
   "outputs": [
    {
     "name": "stdout",
     "output_type": "stream",
     "text": [
      " * sqlite:///Movies.db\n",
      "   sqlite:///Movies.db;\n",
      "Done.\n"
     ]
    },
    {
     "data": {
      "text/html": [
       "<table>\n",
       "    <tr>\n",
       "        <th>ActorName</th>\n",
       "        <th>MovieCount</th>\n",
       "        <th>AID</th>\n",
       "    </tr>\n",
       "    <tr>\n",
       "        <td>Bill Murray</td>\n",
       "        <td>72</td>\n",
       "        <td>53</td>\n",
       "    </tr>\n",
       "    <tr>\n",
       "        <td>Diane Venora</td>\n",
       "        <td>72</td>\n",
       "        <td>100</td>\n",
       "    </tr>\n",
       "    <tr>\n",
       "        <td>Jada Pinkett</td>\n",
       "        <td>72</td>\n",
       "        <td>117</td>\n",
       "    </tr>\n",
       "    <tr>\n",
       "        <td>Minnie Driver</td>\n",
       "        <td>72</td>\n",
       "        <td>77</td>\n",
       "    </tr>\n",
       "    <tr>\n",
       "        <td>Vivica Fox</td>\n",
       "        <td>72</td>\n",
       "        <td>28</td>\n",
       "    </tr>\n",
       "    <tr>\n",
       "        <td>Aidan Quinn</td>\n",
       "        <td>36</td>\n",
       "        <td>93</td>\n",
       "    </tr>\n",
       "    <tr>\n",
       "        <td>Alan Rickman</td>\n",
       "        <td>36</td>\n",
       "        <td>94</td>\n",
       "    </tr>\n",
       "    <tr>\n",
       "        <td>Anna Paquin</td>\n",
       "        <td>36</td>\n",
       "        <td>111</td>\n",
       "    </tr>\n",
       "    <tr>\n",
       "        <td>Anthony Hopkins</td>\n",
       "        <td>36</td>\n",
       "        <td>132</td>\n",
       "    </tr>\n",
       "    <tr>\n",
       "        <td>Austin Pendleton</td>\n",
       "        <td>36</td>\n",
       "        <td>1</td>\n",
       "    </tr>\n",
       "</table>"
      ],
      "text/plain": [
       "[('Bill Murray', 72, 53),\n",
       " ('Diane Venora', 72, 100),\n",
       " ('Jada Pinkett', 72, 117),\n",
       " ('Minnie Driver', 72, 77),\n",
       " ('Vivica Fox', 72, 28),\n",
       " ('Aidan Quinn', 36, 93),\n",
       " ('Alan Rickman', 36, 94),\n",
       " ('Anna Paquin', 36, 111),\n",
       " ('Anthony Hopkins', 36, 132),\n",
       " ('Austin Pendleton', 36, 1)]"
      ]
     },
     "execution_count": 20,
     "metadata": {},
     "output_type": "execute_result"
    }
   ],
   "source": [
    "%%sql\n",
    "SELECT AName AS ActorName, COUNT(ARTISTS.AID) AS MovieCount, ARTISTS.AID\n",
    "FROM MOVIES\n",
    "JOIN CREDITS ON MOVIES.MID = CREDITS.MID\n",
    "JOIN ARTISTS ON CREDITS.AID = ARTISTS.AID\n",
    "WHERE CCode = \"A\"\n",
    "GROUP BY ARTISTS.AName\n",
    "ORDER BY COUNT(ARTISTS.AID)\n",
    "DESC\n",
    "LIMIT 10; "
   ]
  },
  {
   "cell_type": "markdown",
   "metadata": {},
   "source": [
    "**5. Write a select query to display only the actors that appear in multiple movies.** The query should return the Actor Name, Movie Count, and AID. You can use the previous select query as a starting point. You will need to add a HAVING clause to do the restriction. "
   ]
  },
  {
   "cell_type": "code",
   "execution_count": 22,
   "metadata": {
    "collapsed": true
   },
   "outputs": [
    {
     "name": "stdout",
     "output_type": "stream",
     "text": [
      " * sqlite:///Movies.db\n",
      "   sqlite:///Movies.db;\n",
      "Done.\n"
     ]
    },
    {
     "data": {
      "text/html": [
       "<table>\n",
       "    <tr>\n",
       "        <th>ActorName</th>\n",
       "        <th>MovieCount</th>\n",
       "        <th>AID</th>\n",
       "    </tr>\n",
       "    <tr>\n",
       "        <td>Bill Murray</td>\n",
       "        <td>72</td>\n",
       "        <td>53</td>\n",
       "    </tr>\n",
       "    <tr>\n",
       "        <td>Diane Venora</td>\n",
       "        <td>72</td>\n",
       "        <td>100</td>\n",
       "    </tr>\n",
       "    <tr>\n",
       "        <td>Jada Pinkett</td>\n",
       "        <td>72</td>\n",
       "        <td>117</td>\n",
       "    </tr>\n",
       "    <tr>\n",
       "        <td>Minnie Driver</td>\n",
       "        <td>72</td>\n",
       "        <td>77</td>\n",
       "    </tr>\n",
       "    <tr>\n",
       "        <td>Vivica Fox</td>\n",
       "        <td>72</td>\n",
       "        <td>28</td>\n",
       "    </tr>\n",
       "    <tr>\n",
       "        <td>Aidan Quinn</td>\n",
       "        <td>36</td>\n",
       "        <td>93</td>\n",
       "    </tr>\n",
       "    <tr>\n",
       "        <td>Alan Rickman</td>\n",
       "        <td>36</td>\n",
       "        <td>94</td>\n",
       "    </tr>\n",
       "    <tr>\n",
       "        <td>Anna Paquin</td>\n",
       "        <td>36</td>\n",
       "        <td>111</td>\n",
       "    </tr>\n",
       "    <tr>\n",
       "        <td>Anthony Hopkins</td>\n",
       "        <td>36</td>\n",
       "        <td>132</td>\n",
       "    </tr>\n",
       "    <tr>\n",
       "        <td>Austin Pendleton</td>\n",
       "        <td>36</td>\n",
       "        <td>1</td>\n",
       "    </tr>\n",
       "</table>"
      ],
      "text/plain": [
       "[('Bill Murray', 72, 53),\n",
       " ('Diane Venora', 72, 100),\n",
       " ('Jada Pinkett', 72, 117),\n",
       " ('Minnie Driver', 72, 77),\n",
       " ('Vivica Fox', 72, 28),\n",
       " ('Aidan Quinn', 36, 93),\n",
       " ('Alan Rickman', 36, 94),\n",
       " ('Anna Paquin', 36, 111),\n",
       " ('Anthony Hopkins', 36, 132),\n",
       " ('Austin Pendleton', 36, 1)]"
      ]
     },
     "execution_count": 22,
     "metadata": {},
     "output_type": "execute_result"
    }
   ],
   "source": [
    "%%sql\n",
    "SELECT AName AS ActorName, COUNT(ARTISTS.AID) AS MovieCount, ARTISTS.AID\n",
    "FROM MOVIES\n",
    "JOIN CREDITS ON MOVIES.MID = CREDITS.MID\n",
    "JOIN ARTISTS ON CREDITS.AID = ARTISTS.AID\n",
    "WHERE CCode = \"A\"\n",
    "GROUP BY ARTISTS.AName\n",
    "HAVING COUNT(ARTISTS.AID) > 1\n",
    "ORDER BY COUNT(ARTISTS.AID)\n",
    "DESC\n",
    "LIMIT 10; "
   ]
  },
  {
   "cell_type": "markdown",
   "metadata": {},
   "source": [
    "**6. Write a select query to display directors that also act in their movies.** The query should return the ArtistName, NumDirectorCredits, NumActorCredits, NumDirectorActorCredits. Each count should be calculated separately using a subquery. Note: NumDirectorActorCredits should be greater than 0."
   ]
  },
  {
   "cell_type": "code",
   "execution_count": 45,
   "metadata": {
    "collapsed": true
   },
   "outputs": [
    {
     "name": "stdout",
     "output_type": "stream",
     "text": [
      " * sqlite:///Movies.db\n",
      "   sqlite:///Movies.db;\n",
      "Done.\n"
     ]
    },
    {
     "data": {
      "text/html": [
       "<table>\n",
       "    <tr>\n",
       "        <th>ArtistName</th>\n",
       "        <th>NumDirectorCredits</th>\n",
       "        <th>NumActorCredits</th>\n",
       "        <th>NumDirectorActorCredits</th>\n",
       "    </tr>\n",
       "    <tr>\n",
       "        <td>Aidan Quinn</td>\n",
       "        <td>36</td>\n",
       "        <td>36</td>\n",
       "        <td>36</td>\n",
       "    </tr>\n",
       "    <tr>\n",
       "        <td>Alan Rickman</td>\n",
       "        <td>36</td>\n",
       "        <td>36</td>\n",
       "        <td>36</td>\n",
       "    </tr>\n",
       "    <tr>\n",
       "        <td>Anna Paquin</td>\n",
       "        <td>36</td>\n",
       "        <td>36</td>\n",
       "        <td>36</td>\n",
       "    </tr>\n",
       "    <tr>\n",
       "        <td>Anthony Hopkins</td>\n",
       "        <td>36</td>\n",
       "        <td>36</td>\n",
       "        <td>36</td>\n",
       "    </tr>\n",
       "    <tr>\n",
       "        <td>Arlene Sanford</td>\n",
       "        <td>36</td>\n",
       "        <td>36</td>\n",
       "        <td>36</td>\n",
       "    </tr>\n",
       "    <tr>\n",
       "        <td>Austin Pendleton</td>\n",
       "        <td>36</td>\n",
       "        <td>36</td>\n",
       "        <td>36</td>\n",
       "    </tr>\n",
       "    <tr>\n",
       "        <td>Barbra Streisand</td>\n",
       "        <td>72</td>\n",
       "        <td>72</td>\n",
       "        <td>72</td>\n",
       "    </tr>\n",
       "    <tr>\n",
       "        <td>Barry Levinson</td>\n",
       "        <td>36</td>\n",
       "        <td>36</td>\n",
       "        <td>36</td>\n",
       "    </tr>\n",
       "    <tr>\n",
       "        <td>Baz Luhrmann</td>\n",
       "        <td>36</td>\n",
       "        <td>36</td>\n",
       "        <td>36</td>\n",
       "    </tr>\n",
       "    <tr>\n",
       "        <td>Bebe Neuwirth</td>\n",
       "        <td>36</td>\n",
       "        <td>36</td>\n",
       "        <td>36</td>\n",
       "    </tr>\n",
       "</table>"
      ],
      "text/plain": [
       "[('Aidan Quinn', 36, 36, 36),\n",
       " ('Alan Rickman', 36, 36, 36),\n",
       " ('Anna Paquin', 36, 36, 36),\n",
       " ('Anthony Hopkins', 36, 36, 36),\n",
       " ('Arlene Sanford', 36, 36, 36),\n",
       " ('Austin Pendleton', 36, 36, 36),\n",
       " ('Barbra Streisand', 72, 72, 72),\n",
       " ('Barry Levinson', 36, 36, 36),\n",
       " ('Baz Luhrmann', 36, 36, 36),\n",
       " ('Bebe Neuwirth', 36, 36, 36)]"
      ]
     },
     "execution_count": 45,
     "metadata": {},
     "output_type": "execute_result"
    }
   ],
   "source": [
    "%%sql\n",
    "SELECT AName AS ArtistName,  \n",
    "COUNT((SELECT CCode FROM CREDITS WHERE CCode = \"D\")) AS NumDirectorCredits, \n",
    "COUNT((SELECT CCode FROM CREDITS WHERE CCode = \"A\")) AS NumActorCredits,\n",
    "COUNT((SELECT CCode FROM CREDITS)) AS NumDirectorActorCredits\n",
    "FROM MOVIES\n",
    "JOIN CREDITS USING (MID)\n",
    "JOIN ARTISTS USING (AID)\n",
    "GROUP BY AName\n",
    "HAVING NumDirectorActorCredits !=1\n",
    "AND\n",
    "NumDirectorCredits !=0\n",
    "LIMIT 10;"
   ]
  },
  {
   "cell_type": "markdown",
   "metadata": {},
   "source": [
    "Sean Bernard"
   ]
  },
  {
   "cell_type": "code",
   "execution_count": null,
   "metadata": {},
   "outputs": [],
   "source": []
  }
 ],
 "metadata": {
  "kernelspec": {
   "display_name": "Python 3",
   "language": "python",
   "name": "python3"
  },
  "language_info": {
   "codemirror_mode": {
    "name": "ipython",
    "version": 3
   },
   "file_extension": ".py",
   "mimetype": "text/x-python",
   "name": "python",
   "nbconvert_exporter": "python",
   "pygments_lexer": "ipython3",
   "version": "3.6.5"
  }
 },
 "nbformat": 4,
 "nbformat_minor": 2
}
