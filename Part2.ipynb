{
 "cells": [
  {
   "cell_type": "markdown",
   "metadata": {},
   "source": [
    "# Movies Tonight Part 2: SQL DDL"
   ]
  },
  {
   "cell_type": "code",
   "execution_count": 1,
   "metadata": {},
   "outputs": [],
   "source": [
    "%load_ext sql"
   ]
  },
  {
   "cell_type": "markdown",
   "metadata": {},
   "source": [
    "1. **Create / Reset a SQLite database.** \n",
    "    - Name the database `Movies.db`.\n",
    "    - Add `DROP TABLE IF EXISTS` queries make sure you have a blank database. \n",
    "    - Use SQL comments to ay what each line does"
   ]
  },
  {
   "cell_type": "code",
   "execution_count": null,
   "metadata": {},
   "outputs": [],
   "source": [
    "YOUR CODE HERE"
   ]
  },
  {
   "cell_type": "markdown",
   "metadata": {},
   "source": [
    "2. **Use SQL Create Table commands to implement the table designs you created in Part 1.** \n",
    "    - Take care with your data types! (You do not need to populate them yet. That’s Part 3.) \n",
    "    - Use a surrogate key for the primary key of each table. The data type descriptor is `INTEGER PRIMARY KEY`.\n",
    "    - If you make a mistake, recreate the database from scratch using your code from step 1 above. "
   ]
  },
  {
   "cell_type": "code",
   "execution_count": null,
   "metadata": {},
   "outputs": [],
   "source": [
    "YOUR CODE HERE"
   ]
  },
  {
   "cell_type": "markdown",
   "metadata": {},
   "source": [
    "3. **Use SQL ALTER TABLE statements to add the foreign key constraints from your ERD.**  \n",
    "Take care that each constraint has to have a unique name."
   ]
  },
  {
   "cell_type": "code",
   "execution_count": null,
   "metadata": {},
   "outputs": [],
   "source": [
    "YOUR CODE HERE"
   ]
  },
  {
   "cell_type": "markdown",
   "metadata": {},
   "source": [
    "4. **Save, add, commit, and push your work to GitHub.**  \n",
    "Use the commit summary comment \"Completed Part 2\"."
   ]
  },
  {
   "cell_type": "code",
   "execution_count": null,
   "metadata": {},
   "outputs": [],
   "source": []
  }
 ],
 "metadata": {
  "kernelspec": {
   "display_name": "Python 3",
   "language": "python",
   "name": "python3"
  },
  "language_info": {
   "codemirror_mode": {
    "name": "ipython",
    "version": 3
   },
   "file_extension": ".py",
   "mimetype": "text/x-python",
   "name": "python",
   "nbconvert_exporter": "python",
   "pygments_lexer": "ipython3",
   "version": "3.6.5"
  }
 },
 "nbformat": 4,
 "nbformat_minor": 2
}
